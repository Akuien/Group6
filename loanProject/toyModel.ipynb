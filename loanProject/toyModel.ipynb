{
 "cells": [
  {
   "cell_type": "code",
   "execution_count": 1,
   "metadata": {
    "tags": []
   },
   "outputs": [],
   "source": [
    "# used for manipulating directory paths\n",
    "import os\n",
    "\n",
    "# For N-dimensional array manipulation\n",
    "import numpy as np\n",
    "\n",
    "# Plotting library\n",
    "import matplotlib.pyplot as plt\n",
    "\n",
    "# For data analysis and data structures in DataFrames \n",
    "import pandas as pd\n",
    "\n",
    "import joblib\n"
   ]
  },
  {
   "cell_type": "code",
   "execution_count": 33,
   "metadata": {
    "tags": []
   },
   "outputs": [
    {
     "data": {
      "text/plain": [
       "'/home/akuien/Projects/group6/loanProject'"
      ]
     },
     "execution_count": 33,
     "metadata": {},
     "output_type": "execute_result"
    }
   ],
   "source": [
    "pwd"
   ]
  },
  {
   "cell_type": "code",
   "execution_count": 2,
   "metadata": {
    "tags": []
   },
   "outputs": [
    {
     "name": "stdout",
     "output_type": "stream",
     "text": [
      "   Id   Income  Age  Experience Married/Single House_Ownership Car_Ownership  \\\n",
      "0   1  1303834   23           3         single          rented            no   \n",
      "1   2  7574516   40          10         single          rented            no   \n",
      "2   3  3991815   66           4        married          rented            no   \n",
      "3   4  6256451   41           2         single          rented           yes   \n",
      "4   5  5768871   47          11         single          rented            no   \n",
      "\n",
      "            Profession                 CITY           STATE  CURRENT_JOB_YRS  \\\n",
      "0  Mechanical_engineer                 Rewa  Madhya_Pradesh                3   \n",
      "1   Software_Developer             Parbhani     Maharashtra                9   \n",
      "2     Technical_writer            Alappuzha          Kerala                4   \n",
      "3   Software_Developer          Bhubaneswar          Odisha                2   \n",
      "4        Civil_servant  Tiruchirappalli[10]      Tamil_Nadu                3   \n",
      "\n",
      "   CURRENT_HOUSE_YRS  Risk_Flag  \n",
      "0                 13          0  \n",
      "1                 13          0  \n",
      "2                 10          0  \n",
      "3                 12          1  \n",
      "4                 14          1  \n"
     ]
    }
   ],
   "source": [
    "data = 'Database/TrainingData.csv'\n",
    "# Load the CSV file into a Pandas DataFrame\n",
    "df = pd.read_csv(data)\n",
    "\n",
    "# Display the first few rows of the DataFrame\n",
    "print(df.head())"
   ]
  },
  {
   "cell_type": "code",
   "execution_count": null,
   "metadata": {},
   "outputs": [],
   "source": []
  },
  {
   "cell_type": "code",
   "execution_count": 3,
   "metadata": {
    "tags": []
   },
   "outputs": [
    {
     "name": "stdout",
     "output_type": "stream",
     "text": [
      "<class 'pandas.core.frame.DataFrame'>\n",
      "RangeIndex: 252000 entries, 0 to 251999\n",
      "Data columns (total 13 columns):\n",
      " #   Column             Non-Null Count   Dtype \n",
      "---  ------             --------------   ----- \n",
      " 0   Id                 252000 non-null  int64 \n",
      " 1   Income             252000 non-null  int64 \n",
      " 2   Age                252000 non-null  int64 \n",
      " 3   Experience         252000 non-null  int64 \n",
      " 4   Married/Single     252000 non-null  object\n",
      " 5   House_Ownership    252000 non-null  object\n",
      " 6   Car_Ownership      252000 non-null  object\n",
      " 7   Profession         252000 non-null  object\n",
      " 8   CITY               252000 non-null  object\n",
      " 9   STATE              252000 non-null  object\n",
      " 10  CURRENT_JOB_YRS    252000 non-null  int64 \n",
      " 11  CURRENT_HOUSE_YRS  252000 non-null  int64 \n",
      " 12  Risk_Flag          252000 non-null  int64 \n",
      "dtypes: int64(7), object(6)\n",
      "memory usage: 25.0+ MB\n"
     ]
    }
   ],
   "source": [
    "df.info()"
   ]
  },
  {
   "cell_type": "code",
   "execution_count": 4,
   "metadata": {
    "tags": []
   },
   "outputs": [
    {
     "name": "stdout",
     "output_type": "stream",
     "text": [
      "Data frame shape: \n",
      " (252000, 13)\n"
     ]
    },
    {
     "data": {
      "text/plain": [
       "Id                   0\n",
       "Income               0\n",
       "Age                  0\n",
       "Experience           0\n",
       "Married/Single       0\n",
       "House_Ownership      0\n",
       "Car_Ownership        0\n",
       "Profession           0\n",
       "CITY                 0\n",
       "STATE                0\n",
       "CURRENT_JOB_YRS      0\n",
       "CURRENT_HOUSE_YRS    0\n",
       "Risk_Flag            0\n",
       "dtype: int64"
      ]
     },
     "execution_count": 4,
     "metadata": {},
     "output_type": "execute_result"
    }
   ],
   "source": [
    "dfShape = df.shape\n",
    "print(\"Data frame shape: \\n\", dfShape )\n",
    "\n",
    "df.isnull().sum()"
   ]
  },
  {
   "cell_type": "code",
   "execution_count": 5,
   "metadata": {
    "tags": []
   },
   "outputs": [],
   "source": [
    "df= df.drop(['Id','CITY','STATE'], axis=1)"
   ]
  },
  {
   "cell_type": "code",
   "execution_count": 6,
   "metadata": {
    "tags": []
   },
   "outputs": [
    {
     "name": "stdout",
     "output_type": "stream",
     "text": [
      "         Income  Age  Experience Marital_Status House_Ownership Car_Ownership  \\\n",
      "0       1303834   23           3         single          rented            no   \n",
      "1       7574516   40          10         single          rented            no   \n",
      "2       3991815   66           4        married          rented            no   \n",
      "3       6256451   41           2         single          rented           yes   \n",
      "4       5768871   47          11         single          rented            no   \n",
      "...         ...  ...         ...            ...             ...           ...   \n",
      "251995  8154883   43          13         single          rented            no   \n",
      "251996  2843572   26          10         single          rented            no   \n",
      "251997  4522448   46           7         single          rented            no   \n",
      "251998  6507128   45           0         single          rented            no   \n",
      "251999  9070230   70          17         single          rented            no   \n",
      "\n",
      "                 Profession  Current_Job_Years  Current_House_Years  Risk_Flag  \n",
      "0       Mechanical_engineer                  3                   13          0  \n",
      "1        Software_Developer                  9                   13          0  \n",
      "2          Technical_writer                  4                   10          0  \n",
      "3        Software_Developer                  2                   12          1  \n",
      "4             Civil_servant                  3                   14          1  \n",
      "...                     ...                ...                  ...        ...  \n",
      "251995              Surgeon                  6                   11          0  \n",
      "251996         Army_officer                  6                   11          0  \n",
      "251997      Design_Engineer                  7                   12          0  \n",
      "251998     Graphic_Designer                  0                   10          0  \n",
      "251999         Statistician                  7                   11          0  \n",
      "\n",
      "[252000 rows x 10 columns]\n"
     ]
    }
   ],
   "source": [
    "original_column_names = df.columns\n",
    "\n",
    "# Get the current name of the 4th column\n",
    "old_maritalStatus = df.columns[3]  # Assuming zero-based indexing\n",
    "# Specify the new name for the 4th column\n",
    "new_maritalStatus = 'Marital_Status'\n",
    "\n",
    "# Get the current name of the 4th column\n",
    "old_jobYears = df.columns[7]  # Assuming zero-based indexing\n",
    "# Specify the new name for the 4th column\n",
    "new_jobYears = 'Current_Job_Years'\n",
    "\n",
    "# Get the current name of the 4th column\n",
    "old_houseYears = df.columns[8]  # Assuming zero-based indexing\n",
    "# Specify the new name for the 4th column\n",
    "new_houseYears = 'Current_House_Years'\n",
    "\n",
    "# Rename the 4th column\n",
    "df.rename(columns={old_maritalStatus: new_maritalStatus}, inplace=True)\n",
    "df.rename(columns={old_jobYears: new_jobYears}, inplace=True)\n",
    "df.rename(columns={old_houseYears: new_houseYears}, inplace=True)\n",
    "\n",
    "# Print the DataFrame to see the changes\n",
    "print(df)\n",
    "#df.info()"
   ]
  },
  {
   "cell_type": "code",
   "execution_count": 8,
   "metadata": {
    "tags": []
   },
   "outputs": [],
   "source": [
    "from sklearn import preprocessing"
   ]
  },
  {
   "cell_type": "code",
   "execution_count": 9,
   "metadata": {
    "tags": []
   },
   "outputs": [
    {
     "name": "stdout",
     "output_type": "stream",
     "text": [
      "[1 0]\n",
      "[2 0 1]\n",
      "[0 1]\n",
      "[33 43 47 11 31 20 25  2 18 37 23  0 39 38  4 46 17  9 28 16 12  6 27 13\n",
      " 36 42 14  7 48 34 22  5 40 32 30 24 21 35  1 26 19 44 50 15  8  3 45 41\n",
      " 10 29 49]\n"
     ]
    }
   ],
   "source": [
    "# label_encoder object knows how to understand word labels.\n",
    "label_encoder = preprocessing.LabelEncoder()\n",
    "  \n",
    "\n",
    "df['Marital_Status']= label_encoder.fit_transform(df['Marital_Status'])\n",
    "print(df['Marital_Status'].unique())\n",
    "\n",
    "df['House_Ownership']= label_encoder.fit_transform(df['House_Ownership'])\n",
    "print(df['House_Ownership'].unique())\n",
    "\n",
    "df['Car_Ownership']= label_encoder.fit_transform(df['Car_Ownership'])\n",
    "print(df['Car_Ownership'].unique())\n",
    "\n",
    "df['Profession']= label_encoder.fit_transform(df['Profession'])\n",
    "print(df['Profession'].unique())"
   ]
  },
  {
   "cell_type": "code",
   "execution_count": 10,
   "metadata": {
    "tags": []
   },
   "outputs": [],
   "source": [
    "X = df.drop(\"Risk_Flag\", axis=1)\n",
    "Y = df[\"Risk_Flag\"]"
   ]
  },
  {
   "cell_type": "code",
   "execution_count": 11,
   "metadata": {
    "tags": []
   },
   "outputs": [],
   "source": [
    "from sklearn.linear_model import LogisticRegression\n",
    "from sklearn.tree import DecisionTreeClassifier\n",
    "from sklearn.ensemble import RandomForestClassifier\n",
    "from sklearn.svm import LinearSVC\n",
    "import xgboost as xgb\n",
    "from xgboost import XGBClassifier\n",
    "from sklearn.ensemble import AdaBoostClassifier\n",
    "\n",
    "from sklearn.model_selection import train_test_split\n",
    "from sklearn.metrics import classification_report, confusion_matrix, accuracy_score\n",
    "\n"
   ]
  },
  {
   "cell_type": "code",
   "execution_count": 12,
   "metadata": {
    "tags": []
   },
   "outputs": [],
   "source": [
    "X_train, X_test, Y_train, Y_test= train_test_split(X , Y, test_size=0.30, random_state=42)"
   ]
  },
  {
   "cell_type": "code",
   "execution_count": 13,
   "metadata": {
    "tags": []
   },
   "outputs": [],
   "source": [
    "a,z = np.unique(Y, return_counts=True)"
   ]
  },
  {
   "cell_type": "code",
   "execution_count": 14,
   "metadata": {
    "tags": []
   },
   "outputs": [
    {
     "data": {
      "text/plain": [
       "(array([0, 1]),)"
      ]
     },
     "execution_count": 14,
     "metadata": {},
     "output_type": "execute_result"
    }
   ],
   "source": [
    "a,  "
   ]
  },
  {
   "cell_type": "code",
   "execution_count": 15,
   "metadata": {
    "tags": []
   },
   "outputs": [
    {
     "data": {
      "text/plain": [
       "array([221004,  30996])"
      ]
     },
     "execution_count": 15,
     "metadata": {},
     "output_type": "execute_result"
    }
   ],
   "source": [
    "z"
   ]
  },
  {
   "cell_type": "code",
   "execution_count": 16,
   "metadata": {
    "tags": []
   },
   "outputs": [],
   "source": [
    "data = pd.concat([X, Y], axis=1)"
   ]
  },
  {
   "cell_type": "code",
   "execution_count": 17,
   "metadata": {
    "tags": []
   },
   "outputs": [],
   "source": [
    "from sklearn.utils import resample\n",
    "\n",
    "# Separate majority and minority classes\n",
    "majority_class = data[data['Risk_Flag'] == 0]\n",
    "minority_class = data[data['Risk_Flag'] == 1]\n",
    "\n",
    "upsampled_minority = resample(minority_class,\n",
    "                              replace=True,\n",
    "                              n_samples=z[0],\n",
    "                              random_state=42)\n",
    "\n",
    "data_up = pd.concat([upsampled_minority, majority_class])\n",
    "\n",
    "# Splitting back into features and target\n",
    "X_up = data_up.drop('Risk_Flag', axis=1)\n",
    "Y_up = data_up['Risk_Flag']"
   ]
  },
  {
   "cell_type": "code",
   "execution_count": 18,
   "metadata": {
    "tags": []
   },
   "outputs": [
    {
     "data": {
      "text/plain": [
       "(array([0, 1]), array([221004, 221004]))"
      ]
     },
     "execution_count": 18,
     "metadata": {},
     "output_type": "execute_result"
    }
   ],
   "source": [
    "a,z = np.unique(Y_up, return_counts=True)\n",
    "a,z"
   ]
  },
  {
   "cell_type": "code",
   "execution_count": 19,
   "metadata": {
    "tags": []
   },
   "outputs": [
    {
     "name": "stdout",
     "output_type": "stream",
     "text": [
      "(397808, 9)\n",
      "classification report: \n",
      "              precision    recall  f1-score   support\n",
      "\n",
      "           0       0.92      0.86      0.89    198980\n",
      "           1       0.86      0.93      0.89    198828\n",
      "\n",
      "    accuracy                           0.89    397808\n",
      "   macro avg       0.89      0.89      0.89    397808\n",
      "weighted avg       0.89      0.89      0.89    397808\n",
      "\n",
      "Confusion matrix : \n",
      "[[170165  28815]\n",
      " [ 14805 184023]]\n",
      "(353607, 9)\n",
      "classification report: \n",
      "              precision    recall  f1-score   support\n",
      "\n",
      "           0       0.96      0.86      0.91    176978\n",
      "           1       0.88      0.96      0.92    176629\n",
      "\n",
      "    accuracy                           0.91    353607\n",
      "   macro avg       0.92      0.91      0.91    353607\n",
      "weighted avg       0.92      0.91      0.91    353607\n",
      "\n",
      "Confusion matrix : \n",
      "[[152804  24174]\n",
      " [  6215 170414]]\n",
      "(309406, 9)\n",
      "classification report: \n",
      "              precision    recall  f1-score   support\n",
      "\n",
      "           0       0.98      0.87      0.92    154734\n",
      "           1       0.88      0.98      0.93    154672\n",
      "\n",
      "    accuracy                           0.92    309406\n",
      "   macro avg       0.93      0.92      0.92    309406\n",
      "weighted avg       0.93      0.92      0.92    309406\n",
      "\n",
      "Confusion matrix : \n",
      "[[134239  20495]\n",
      " [  2716 151956]]\n",
      "(265205, 9)\n",
      "classification report: \n",
      "              precision    recall  f1-score   support\n",
      "\n",
      "           0       0.99      0.87      0.93    132620\n",
      "           1       0.89      0.99      0.94    132585\n",
      "\n",
      "    accuracy                           0.93    265205\n",
      "   macro avg       0.94      0.93      0.93    265205\n",
      "weighted avg       0.94      0.93      0.93    265205\n",
      "\n",
      "Confusion matrix : \n",
      "[[115559  17061]\n",
      " [  1193 131392]]\n",
      "(221004, 9)\n",
      "classification report: \n",
      "              precision    recall  f1-score   support\n",
      "\n",
      "           0       0.99      0.87      0.93    110556\n",
      "           1       0.89      1.00      0.94    110448\n",
      "\n",
      "    accuracy                           0.94    221004\n",
      "   macro avg       0.94      0.94      0.93    221004\n",
      "weighted avg       0.94      0.94      0.93    221004\n",
      "\n",
      "Confusion matrix : \n",
      "[[ 96707  13849]\n",
      " [   512 109936]]\n",
      "(176804, 9)\n",
      "classification report: \n",
      "              precision    recall  f1-score   support\n",
      "\n",
      "           0       1.00      0.88      0.93     88485\n",
      "           1       0.89      1.00      0.94     88319\n",
      "\n",
      "    accuracy                           0.94    176804\n",
      "   macro avg       0.94      0.94      0.94    176804\n",
      "weighted avg       0.94      0.94      0.94    176804\n",
      "\n",
      "Confusion matrix : \n",
      "[[77640 10845]\n",
      " [  188 88131]]\n",
      "(132603, 9)\n",
      "classification report: \n",
      "              precision    recall  f1-score   support\n",
      "\n",
      "           0       1.00      0.88      0.94     66315\n",
      "           1       0.89      1.00      0.94     66288\n",
      "\n",
      "    accuracy                           0.94    132603\n",
      "   macro avg       0.95      0.94      0.94    132603\n",
      "weighted avg       0.95      0.94      0.94    132603\n",
      "\n",
      "Confusion matrix : \n",
      "[[58435  7880]\n",
      " [   79 66209]]\n",
      "(88402, 9)\n",
      "classification report: \n",
      "              precision    recall  f1-score   support\n",
      "\n",
      "           0       1.00      0.88      0.94     44222\n",
      "           1       0.90      1.00      0.94     44180\n",
      "\n",
      "    accuracy                           0.94     88402\n",
      "   macro avg       0.95      0.94      0.94     88402\n",
      "weighted avg       0.95      0.94      0.94     88402\n",
      "\n",
      "Confusion matrix : \n",
      "[[39060  5162]\n",
      " [   26 44154]]\n",
      "(44201, 9)\n",
      "classification report: \n",
      "              precision    recall  f1-score   support\n",
      "\n",
      "           0       1.00      0.89      0.94     22109\n",
      "           1       0.90      1.00      0.95     22092\n",
      "\n",
      "    accuracy                           0.94     44201\n",
      "   macro avg       0.95      0.94      0.94     44201\n",
      "weighted avg       0.95      0.94      0.94     44201\n",
      "\n",
      "Confusion matrix : \n",
      "[[19569  2540]\n",
      " [   10 22082]]\n"
     ]
    },
    {
     "data": {
      "image/png": "[encoded data removed]",
      "text/plain": [
       "<Figure size 1000x600 with 1 Axes>"
      ]
     },
     "metadata": {},
     "output_type": "display_data"
    }
   ],
   "source": [
    "decTree_model = DecisionTreeClassifier(criterion=\"entropy\",random_state=420)\n",
    "\n",
    "# LEARNING CURVE\n",
    "training_sizes = np.linspace(0.1, 0.9, 9)\n",
    "train_accuracies = []\n",
    "test_accuracies = []\n",
    "\n",
    "for size in training_sizes:\n",
    "    # Use a subset of the training data\n",
    "    \n",
    "    X_train, X_test, Y_train, Y_test= train_test_split(X_up , Y_up, test_size=1-size, random_state=42)\n",
    "    #print(subset_size)\n",
    "    # Train the model on the subset\n",
    "    decTree_model.fit(X_train, Y_train)\n",
    "\n",
    "    print(X_test.shape)\n",
    "    # Calculate accuracy on both training and testing sets\n",
    "    train_preds = decTree_model.predict(X_train)\n",
    "    test_preds = decTree_model.predict(X_test)\n",
    "\n",
    "    train_accuracies.append(accuracy_score(Y_train, train_preds))\n",
    "   \n",
    "    test_accuracies.append(accuracy_score(Y_test, test_preds))\n",
    "    \n",
    "    print(\"classification report: \")\n",
    "    print(classification_report(Y_test,test_preds))\n",
    "    print(\"Confusion matrix : \")\n",
    "    print(confusion_matrix(Y_test,test_preds))\n",
    "          \n",
    "# Plot the learning curve\n",
    "plt.figure(figsize=(10, 6))\n",
    "plt.plot(training_sizes, train_accuracies, label='Training Accuracy')\n",
    "plt.plot(training_sizes, test_accuracies, label='Testing Accuracy')\n",
    "plt.xlabel('Training Set Size')\n",
    "plt.ylabel('Accuracy')\n",
    "plt.title('Decision tree Learning Curve')\n",
    "plt.legend()\n",
    "plt.show()"
   ]
  },
  {
   "cell_type": "code",
   "execution_count": 20,
   "metadata": {
    "tags": []
   },
   "outputs": [
    {
     "name": "stdout",
     "output_type": "stream",
     "text": [
      "(44201, 9)\n",
      "classification report: \n",
      "              precision    recall  f1-score   support\n",
      "\n",
      "           0       0.50      1.00      0.67     22109\n",
      "           1       0.00      0.00      0.00     22092\n",
      "\n",
      "    accuracy                           0.50     44201\n",
      "   macro avg       0.25      0.50      0.33     44201\n",
      "weighted avg       0.25      0.50      0.33     44201\n",
      "\n",
      "confusion matrix: \n"
     ]
    },
    {
     "name": "stderr",
     "output_type": "stream",
     "text": [
      "/Library/Frameworks/Python.framework/Versions/3.12/lib/python3.12/site-packages/sklearn/metrics/_classification.py:1471: UndefinedMetricWarning: Precision and F-score are ill-defined and being set to 0.0 in labels with no predicted samples. Use `zero_division` parameter to control this behavior.\n",
      "  _warn_prf(average, modifier, msg_start, len(result))\n",
      "/Library/Frameworks/Python.framework/Versions/3.12/lib/python3.12/site-packages/sklearn/metrics/_classification.py:1471: UndefinedMetricWarning: Precision and F-score are ill-defined and being set to 0.0 in labels with no predicted samples. Use `zero_division` parameter to control this behavior.\n",
      "  _warn_prf(average, modifier, msg_start, len(result))\n",
      "/Library/Frameworks/Python.framework/Versions/3.12/lib/python3.12/site-packages/sklearn/metrics/_classification.py:1471: UndefinedMetricWarning: Precision and F-score are ill-defined and being set to 0.0 in labels with no predicted samples. Use `zero_division` parameter to control this behavior.\n",
      "  _warn_prf(average, modifier, msg_start, len(result))\n"
     ]
    },
    {
     "name": "stdout",
     "output_type": "stream",
     "text": [
      "[[22109     0]\n",
      " [22092     0]]\n",
      "(88402, 9)\n",
      "classification report: \n"
     ]
    },
    {
     "name": "stderr",
     "output_type": "stream",
     "text": [
      "/Library/Frameworks/Python.framework/Versions/3.12/lib/python3.12/site-packages/sklearn/metrics/_classification.py:1471: UndefinedMetricWarning: Precision and F-score are ill-defined and being set to 0.0 in labels with no predicted samples. Use `zero_division` parameter to control this behavior.\n",
      "  _warn_prf(average, modifier, msg_start, len(result))\n",
      "/Library/Frameworks/Python.framework/Versions/3.12/lib/python3.12/site-packages/sklearn/metrics/_classification.py:1471: UndefinedMetricWarning: Precision and F-score are ill-defined and being set to 0.0 in labels with no predicted samples. Use `zero_division` parameter to control this behavior.\n",
      "  _warn_prf(average, modifier, msg_start, len(result))\n",
      "/Library/Frameworks/Python.framework/Versions/3.12/lib/python3.12/site-packages/sklearn/metrics/_classification.py:1471: UndefinedMetricWarning: Precision and F-score are ill-defined and being set to 0.0 in labels with no predicted samples. Use `zero_division` parameter to control this behavior.\n",
      "  _warn_prf(average, modifier, msg_start, len(result))\n"
     ]
    },
    {
     "name": "stdout",
     "output_type": "stream",
     "text": [
      "              precision    recall  f1-score   support\n",
      "\n",
      "           0       0.50      1.00      0.67     44222\n",
      "           1       0.00      0.00      0.00     44180\n",
      "\n",
      "    accuracy                           0.50     88402\n",
      "   macro avg       0.25      0.50      0.33     88402\n",
      "weighted avg       0.25      0.50      0.33     88402\n",
      "\n",
      "confusion matrix: \n",
      "[[44222     0]\n",
      " [44180     0]]\n",
      "(132603, 9)\n",
      "classification report: \n"
     ]
    },
    {
     "name": "stderr",
     "output_type": "stream",
     "text": [
      "/Library/Frameworks/Python.framework/Versions/3.12/lib/python3.12/site-packages/sklearn/metrics/_classification.py:1471: UndefinedMetricWarning: Precision and F-score are ill-defined and being set to 0.0 in labels with no predicted samples. Use `zero_division` parameter to control this behavior.\n",
      "  _warn_prf(average, modifier, msg_start, len(result))\n",
      "/Library/Frameworks/Python.framework/Versions/3.12/lib/python3.12/site-packages/sklearn/metrics/_classification.py:1471: UndefinedMetricWarning: Precision and F-score are ill-defined and being set to 0.0 in labels with no predicted samples. Use `zero_division` parameter to control this behavior.\n",
      "  _warn_prf(average, modifier, msg_start, len(result))\n",
      "/Library/Frameworks/Python.framework/Versions/3.12/lib/python3.12/site-packages/sklearn/metrics/_classification.py:1471: UndefinedMetricWarning: Precision and F-score are ill-defined and being set to 0.0 in labels with no predicted samples. Use `zero_division` parameter to control this behavior.\n",
      "  _warn_prf(average, modifier, msg_start, len(result))\n"
     ]
    },
    {
     "name": "stdout",
     "output_type": "stream",
     "text": [
      "              precision    recall  f1-score   support\n",
      "\n",
      "           0       0.50      1.00      0.67     66315\n",
      "           1       0.00      0.00      0.00     66288\n",
      "\n",
      "    accuracy                           0.50    132603\n",
      "   macro avg       0.25      0.50      0.33    132603\n",
      "weighted avg       0.25      0.50      0.33    132603\n",
      "\n",
      "confusion matrix: \n",
      "[[66315     0]\n",
      " [66288     0]]\n",
      "(176804, 9)\n",
      "classification report: \n"
     ]
    },
    {
     "name": "stderr",
     "output_type": "stream",
     "text": [
      "/Library/Frameworks/Python.framework/Versions/3.12/lib/python3.12/site-packages/sklearn/metrics/_classification.py:1471: UndefinedMetricWarning: Precision and F-score are ill-defined and being set to 0.0 in labels with no predicted samples. Use `zero_division` parameter to control this behavior.\n",
      "  _warn_prf(average, modifier, msg_start, len(result))\n",
      "/Library/Frameworks/Python.framework/Versions/3.12/lib/python3.12/site-packages/sklearn/metrics/_classification.py:1471: UndefinedMetricWarning: Precision and F-score are ill-defined and being set to 0.0 in labels with no predicted samples. Use `zero_division` parameter to control this behavior.\n",
      "  _warn_prf(average, modifier, msg_start, len(result))\n",
      "/Library/Frameworks/Python.framework/Versions/3.12/lib/python3.12/site-packages/sklearn/metrics/_classification.py:1471: UndefinedMetricWarning: Precision and F-score are ill-defined and being set to 0.0 in labels with no predicted samples. Use `zero_division` parameter to control this behavior.\n",
      "  _warn_prf(average, modifier, msg_start, len(result))\n"
     ]
    },
    {
     "name": "stdout",
     "output_type": "stream",
     "text": [
      "              precision    recall  f1-score   support\n",
      "\n",
      "           0       0.50      1.00      0.67     88485\n",
      "           1       0.00      0.00      0.00     88319\n",
      "\n",
      "    accuracy                           0.50    176804\n",
      "   macro avg       0.25      0.50      0.33    176804\n",
      "weighted avg       0.25      0.50      0.33    176804\n",
      "\n",
      "confusion matrix: \n",
      "[[88485     0]\n",
      " [88319     0]]\n",
      "(221004, 9)\n",
      "classification report: \n"
     ]
    },
    {
     "name": "stderr",
     "output_type": "stream",
     "text": [
      "/Library/Frameworks/Python.framework/Versions/3.12/lib/python3.12/site-packages/sklearn/metrics/_classification.py:1471: UndefinedMetricWarning: Precision and F-score are ill-defined and being set to 0.0 in labels with no predicted samples. Use `zero_division` parameter to control this behavior.\n",
      "  _warn_prf(average, modifier, msg_start, len(result))\n",
      "/Library/Frameworks/Python.framework/Versions/3.12/lib/python3.12/site-packages/sklearn/metrics/_classification.py:1471: UndefinedMetricWarning: Precision and F-score are ill-defined and being set to 0.0 in labels with no predicted samples. Use `zero_division` parameter to control this behavior.\n",
      "  _warn_prf(average, modifier, msg_start, len(result))\n",
      "/Library/Frameworks/Python.framework/Versions/3.12/lib/python3.12/site-packages/sklearn/metrics/_classification.py:1471: UndefinedMetricWarning: Precision and F-score are ill-defined and being set to 0.0 in labels with no predicted samples. Use `zero_division` parameter to control this behavior.\n",
      "  _warn_prf(average, modifier, msg_start, len(result))\n"
     ]
    },
    {
     "name": "stdout",
     "output_type": "stream",
     "text": [
      "              precision    recall  f1-score   support\n",
      "\n",
      "           0       0.50      1.00      0.67    110556\n",
      "           1       0.00      0.00      0.00    110448\n",
      "\n",
      "    accuracy                           0.50    221004\n",
      "   macro avg       0.25      0.50      0.33    221004\n",
      "weighted avg       0.25      0.50      0.33    221004\n",
      "\n",
      "confusion matrix: \n",
      "[[110556      0]\n",
      " [110448      0]]\n",
      "(265205, 9)\n",
      "classification report: \n"
     ]
    },
    {
     "name": "stderr",
     "output_type": "stream",
     "text": [
      "/Library/Frameworks/Python.framework/Versions/3.12/lib/python3.12/site-packages/sklearn/metrics/_classification.py:1471: UndefinedMetricWarning: Precision and F-score are ill-defined and being set to 0.0 in labels with no predicted samples. Use `zero_division` parameter to control this behavior.\n",
      "  _warn_prf(average, modifier, msg_start, len(result))\n",
      "/Library/Frameworks/Python.framework/Versions/3.12/lib/python3.12/site-packages/sklearn/metrics/_classification.py:1471: UndefinedMetricWarning: Precision and F-score are ill-defined and being set to 0.0 in labels with no predicted samples. Use `zero_division` parameter to control this behavior.\n",
      "  _warn_prf(average, modifier, msg_start, len(result))\n",
      "/Library/Frameworks/Python.framework/Versions/3.12/lib/python3.12/site-packages/sklearn/metrics/_classification.py:1471: UndefinedMetricWarning: Precision and F-score are ill-defined and being set to 0.0 in labels with no predicted samples. Use `zero_division` parameter to control this behavior.\n",
      "  _warn_prf(average, modifier, msg_start, len(result))\n"
     ]
    },
    {
     "name": "stdout",
     "output_type": "stream",
     "text": [
      "              precision    recall  f1-score   support\n",
      "\n",
      "           0       0.50      1.00      0.67    132620\n",
      "           1       0.00      0.00      0.00    132585\n",
      "\n",
      "    accuracy                           0.50    265205\n",
      "   macro avg       0.25      0.50      0.33    265205\n",
      "weighted avg       0.25      0.50      0.33    265205\n",
      "\n",
      "confusion matrix: \n",
      "[[132620      0]\n",
      " [132585      0]]\n",
      "(309406, 9)\n",
      "classification report: \n"
     ]
    },
    {
     "name": "stderr",
     "output_type": "stream",
     "text": [
      "/Library/Frameworks/Python.framework/Versions/3.12/lib/python3.12/site-packages/sklearn/metrics/_classification.py:1471: UndefinedMetricWarning: Precision and F-score are ill-defined and being set to 0.0 in labels with no predicted samples. Use `zero_division` parameter to control this behavior.\n",
      "  _warn_prf(average, modifier, msg_start, len(result))\n",
      "/Library/Frameworks/Python.framework/Versions/3.12/lib/python3.12/site-packages/sklearn/metrics/_classification.py:1471: UndefinedMetricWarning: Precision and F-score are ill-defined and being set to 0.0 in labels with no predicted samples. Use `zero_division` parameter to control this behavior.\n",
      "  _warn_prf(average, modifier, msg_start, len(result))\n",
      "/Library/Frameworks/Python.framework/Versions/3.12/lib/python3.12/site-packages/sklearn/metrics/_classification.py:1471: UndefinedMetricWarning: Precision and F-score are ill-defined and being set to 0.0 in labels with no predicted samples. Use `zero_division` parameter to control this behavior.\n",
      "  _warn_prf(average, modifier, msg_start, len(result))\n"
     ]
    },
    {
     "name": "stdout",
     "output_type": "stream",
     "text": [
      "              precision    recall  f1-score   support\n",
      "\n",
      "           0       0.50      1.00      0.67    154734\n",
      "           1       0.00      0.00      0.00    154672\n",
      "\n",
      "    accuracy                           0.50    309406\n",
      "   macro avg       0.25      0.50      0.33    309406\n",
      "weighted avg       0.25      0.50      0.33    309406\n",
      "\n",
      "confusion matrix: \n",
      "[[154734      0]\n",
      " [154672      0]]\n",
      "(353607, 9)\n",
      "classification report: \n"
     ]
    },
    {
     "name": "stderr",
     "output_type": "stream",
     "text": [
      "/Library/Frameworks/Python.framework/Versions/3.12/lib/python3.12/site-packages/sklearn/metrics/_classification.py:1471: UndefinedMetricWarning: Precision and F-score are ill-defined and being set to 0.0 in labels with no predicted samples. Use `zero_division` parameter to control this behavior.\n",
      "  _warn_prf(average, modifier, msg_start, len(result))\n",
      "/Library/Frameworks/Python.framework/Versions/3.12/lib/python3.12/site-packages/sklearn/metrics/_classification.py:1471: UndefinedMetricWarning: Precision and F-score are ill-defined and being set to 0.0 in labels with no predicted samples. Use `zero_division` parameter to control this behavior.\n",
      "  _warn_prf(average, modifier, msg_start, len(result))\n",
      "/Library/Frameworks/Python.framework/Versions/3.12/lib/python3.12/site-packages/sklearn/metrics/_classification.py:1471: UndefinedMetricWarning: Precision and F-score are ill-defined and being set to 0.0 in labels with no predicted samples. Use `zero_division` parameter to control this behavior.\n",
      "  _warn_prf(average, modifier, msg_start, len(result))\n"
     ]
    },
    {
     "name": "stdout",
     "output_type": "stream",
     "text": [
      "              precision    recall  f1-score   support\n",
      "\n",
      "           0       0.00      0.00      0.00    176978\n",
      "           1       0.50      1.00      0.67    176629\n",
      "\n",
      "    accuracy                           0.50    353607\n",
      "   macro avg       0.25      0.50      0.33    353607\n",
      "weighted avg       0.25      0.50      0.33    353607\n",
      "\n",
      "confusion matrix: \n",
      "[[     0 176978]\n",
      " [     0 176629]]\n",
      "(397808, 9)\n",
      "classification report: \n"
     ]
    },
    {
     "name": "stderr",
     "output_type": "stream",
     "text": [
      "/Library/Frameworks/Python.framework/Versions/3.12/lib/python3.12/site-packages/sklearn/metrics/_classification.py:1471: UndefinedMetricWarning: Precision and F-score are ill-defined and being set to 0.0 in labels with no predicted samples. Use `zero_division` parameter to control this behavior.\n",
      "  _warn_prf(average, modifier, msg_start, len(result))\n",
      "/Library/Frameworks/Python.framework/Versions/3.12/lib/python3.12/site-packages/sklearn/metrics/_classification.py:1471: UndefinedMetricWarning: Precision and F-score are ill-defined and being set to 0.0 in labels with no predicted samples. Use `zero_division` parameter to control this behavior.\n",
      "  _warn_prf(average, modifier, msg_start, len(result))\n",
      "/Library/Frameworks/Python.framework/Versions/3.12/lib/python3.12/site-packages/sklearn/metrics/_classification.py:1471: UndefinedMetricWarning: Precision and F-score are ill-defined and being set to 0.0 in labels with no predicted samples. Use `zero_division` parameter to control this behavior.\n",
      "  _warn_prf(average, modifier, msg_start, len(result))\n"
     ]
    },
    {
     "name": "stdout",
     "output_type": "stream",
     "text": [
      "              precision    recall  f1-score   support\n",
      "\n",
      "           0       0.00      0.00      0.00    198980\n",
      "           1       0.50      1.00      0.67    198828\n",
      "\n",
      "    accuracy                           0.50    397808\n",
      "   macro avg       0.25      0.50      0.33    397808\n",
      "weighted avg       0.25      0.50      0.33    397808\n",
      "\n",
      "confusion matrix: \n",
      "[[     0 198980]\n",
      " [     0 198828]]\n"
     ]
    },
    {
     "data": {
      "image/png": "[encoded data removed]",
      "text/plain": [
       "<Figure size 1000x600 with 1 Axes>"
      ]
     },
     "metadata": {},
     "output_type": "display_data"
    }
   ],
   "source": [
    "logReg_model = LogisticRegression()\n",
    "# LEARNING CURVE\n",
    "training_sizes = np.linspace(0.1, 0.9, 9)\n",
    "train_accuracies = []\n",
    "test_accuracies = []\n",
    "\n",
    "for size in training_sizes:\n",
    "    # Use a subset of the training data\n",
    "    \n",
    "    X_train, X_test, Y_train, Y_test= train_test_split(X_up , Y_up, test_size=size, random_state=42)\n",
    "    #print(subset_size)\n",
    "    # Train the model on the subset\n",
    "    logReg_model.fit(X_train, Y_train)\n",
    "\n",
    "    print(X_test.shape)\n",
    "    # Calculate accuracy on both training and testing sets\n",
    "    train_preds = logReg_model.predict(X_train)\n",
    "    test_preds = logReg_model.predict(X_test)\n",
    "\n",
    "    train_accuracies.append(accuracy_score(Y_train, train_preds))\n",
    "    test_accuracies.append(accuracy_score(Y_test, test_preds))\n",
    "    \n",
    "    print(\"classification report: \")\n",
    "    print(classification_report(Y_test,test_preds))\n",
    "    print(\"confusion matrix: \")\n",
    "    print(confusion_matrix(Y_test,test_preds))\n",
    "          \n",
    "# Plot the learning curve\n",
    "plt.figure(figsize=(10, 6))\n",
    "plt.plot(training_sizes, train_accuracies, label='Training Accuracy')\n",
    "plt.plot(training_sizes, test_accuracies, label='Testing Accuracy')\n",
    "plt.xlabel('Training Set Size')\n",
    "plt.ylabel('Accuracy')\n",
    "plt.title('Decision tree Learning Curve')\n",
    "plt.legend()\n",
    "plt.show()"
   ]
  },
  {
   "cell_type": "code",
   "execution_count": 21,
   "metadata": {
    "tags": []
   },
   "outputs": [
    {
     "name": "stdout",
     "output_type": "stream",
     "text": [
      "(44201, 9)\n",
      "              precision    recall  f1-score   support\n",
      "\n",
      "           0       1.00      0.91      0.95     22109\n",
      "           1       0.92      1.00      0.96     22092\n",
      "\n",
      "    accuracy                           0.95     44201\n",
      "   macro avg       0.96      0.95      0.95     44201\n",
      "weighted avg       0.96      0.95      0.95     44201\n",
      "\n",
      "[[20113  1996]\n",
      " [   11 22081]]\n",
      "(88402, 9)\n",
      "              precision    recall  f1-score   support\n",
      "\n",
      "           0       1.00      0.91      0.95     44222\n",
      "           1       0.92      1.00      0.96     44180\n",
      "\n",
      "    accuracy                           0.95     88402\n",
      "   macro avg       0.96      0.95      0.95     88402\n",
      "weighted avg       0.96      0.95      0.95     88402\n",
      "\n",
      "[[40142  4080]\n",
      " [   28 44152]]\n",
      "(132603, 9)\n",
      "              precision    recall  f1-score   support\n",
      "\n",
      "           0       1.00      0.91      0.95     66315\n",
      "           1       0.91      1.00      0.95     66288\n",
      "\n",
      "    accuracy                           0.95    132603\n",
      "   macro avg       0.96      0.95      0.95    132603\n",
      "weighted avg       0.96      0.95      0.95    132603\n",
      "\n",
      "[[60109  6206]\n",
      " [   87 66201]]\n",
      "(176804, 9)\n",
      "              precision    recall  f1-score   support\n",
      "\n",
      "           0       1.00      0.90      0.95     88485\n",
      "           1       0.91      1.00      0.95     88319\n",
      "\n",
      "    accuracy                           0.95    176804\n",
      "   macro avg       0.95      0.95      0.95    176804\n",
      "weighted avg       0.95      0.95      0.95    176804\n",
      "\n",
      "[[79939  8546]\n",
      " [  219 88100]]\n",
      "(221004, 9)\n",
      "              precision    recall  f1-score   support\n",
      "\n",
      "           0       0.99      0.90      0.94    110556\n",
      "           1       0.91      0.99      0.95    110448\n",
      "\n",
      "    accuracy                           0.95    221004\n",
      "   macro avg       0.95      0.95      0.95    221004\n",
      "weighted avg       0.95      0.95      0.95    221004\n",
      "\n",
      "[[ 99441  11115]\n",
      " [   641 109807]]\n",
      "(265205, 9)\n",
      "              precision    recall  f1-score   support\n",
      "\n",
      "           0       0.99      0.90      0.94    132620\n",
      "           1       0.90      0.99      0.94    132585\n",
      "\n",
      "    accuracy                           0.94    265205\n",
      "   macro avg       0.95      0.94      0.94    265205\n",
      "weighted avg       0.95      0.94      0.94    265205\n",
      "\n",
      "[[118721  13899]\n",
      " [  1541 131044]]\n",
      "(309406, 9)\n",
      "              precision    recall  f1-score   support\n",
      "\n",
      "           0       0.98      0.89      0.93    154734\n",
      "           1       0.90      0.98      0.94    154672\n",
      "\n",
      "    accuracy                           0.93    309406\n",
      "   macro avg       0.94      0.93      0.93    309406\n",
      "weighted avg       0.94      0.93      0.93    309406\n",
      "\n",
      "[[138064  16670]\n",
      " [  3456 151216]]\n",
      "(353607, 9)\n",
      "              precision    recall  f1-score   support\n",
      "\n",
      "           0       0.95      0.89      0.92    176978\n",
      "           1       0.90      0.95      0.92    176629\n",
      "\n",
      "    accuracy                           0.92    353607\n",
      "   macro avg       0.92      0.92      0.92    353607\n",
      "weighted avg       0.92      0.92      0.92    353607\n",
      "\n",
      "[[157681  19297]\n",
      " [  8140 168489]]\n",
      "(397808, 9)\n",
      "              precision    recall  f1-score   support\n",
      "\n",
      "           0       0.90      0.89      0.90    198980\n",
      "           1       0.89      0.90      0.90    198828\n",
      "\n",
      "    accuracy                           0.90    397808\n",
      "   macro avg       0.90      0.90      0.90    397808\n",
      "weighted avg       0.90      0.90      0.90    397808\n",
      "\n",
      "[[177939  21041]\n",
      " [ 20379 178449]]\n"
     ]
    },
    {
     "data": {
      "image/png": "[encoded data removed]",
      "text/plain": [
       "<Figure size 1000x600 with 1 Axes>"
      ]
     },
     "metadata": {},
     "output_type": "display_data"
    }
   ],
   "source": [
    "forestModel = RandomForestClassifier()\n",
    "# LEARNING CURVE\n",
    "training_sizes = np.linspace(0.1, 0.9, 9)\n",
    "train_accuracies = []\n",
    "test_accuracies = []\n",
    "\n",
    "for size in training_sizes:\n",
    "    # Use a subset of the training data\n",
    "    \n",
    "    X_train, X_test, Y_train, Y_test= train_test_split(X_up , Y_up, test_size=size, random_state=42)\n",
    "    #print(subset_size)\n",
    "    # Train the model on the subset\n",
    "    forestModel.fit(X_train, Y_train)\n",
    "\n",
    "    print(X_test.shape)\n",
    "    # Calculate accuracy on both training and testing sets\n",
    "    train_preds = forestModel.predict(X_train)\n",
    "    test_preds = forestModel.predict(X_test)\n",
    "\n",
    "    train_accuracies.append(accuracy_score(Y_train, train_preds))\n",
    "    test_accuracies.append(accuracy_score(Y_test, test_preds))\n",
    "    \n",
    "    print(classification_report(Y_test,test_preds))\n",
    "    print(confusion_matrix(Y_test,test_preds))\n",
    "          \n",
    "# Plot the learning curve\n",
    "plt.figure(figsize=(10, 6))\n",
    "plt.plot(training_sizes, train_accuracies, label='Training Accuracy')\n",
    "plt.plot(training_sizes, test_accuracies, label='Testing Accuracy')\n",
    "plt.xlabel('Training Set Size')\n",
    "plt.ylabel('Accuracy')\n",
    "plt.title('Decision tree Learning Curve')\n",
    "plt.legend()\n",
    "plt.show()"
   ]
  },
  {
   "cell_type": "code",
   "execution_count": null,
   "metadata": {
    "tags": []
   },
   "outputs": [],
   "source": [
    "model = xgb.XGBClassifier(objective='binary:logistic', eval_metric='logloss')\n",
    "# LEARNING CURVE\n",
    "training_sizes = np.linspace(0.1, 0.9, 9)\n",
    "train_accuracies = []\n",
    "test_accuracies = []\n",
    "\n",
    "for size in training_sizes:\n",
    "    # Use a subset of the training data\n",
    "    \n",
    "    X_train, X_test, Y_train, Y_test= train_test_split(X_up , Y_up, test_size=size, random_state=42)\n",
    "    #print(subset_size)\n",
    "    # Train the model on the subset\n",
    "    des_model.fit(X_train, Y_train)\n",
    "\n",
    "    print(X_test.shape)\n",
    "    # Calculate accuracy on both training and testing sets\n",
    "    train_preds = des_model.predict(X_train)\n",
    "    test_preds = des_model.predict(X_test)\n",
    "\n",
    "    train_accuracies.append(accuracy_score(Y_train, train_preds))\n",
    "    test_accuracies.append(accuracy_score(Y_test, test_preds))\n",
    "    \n",
    "    print(classification_report(Y_test,test_preds))\n",
    "    print(confusion_matrix(Y_test,test_preds))\n",
    "          \n",
    "# Plot the learning curve\n",
    "plt.figure(figsize=(10, 6))\n",
    "plt.plot(training_sizes, train_accuracies, label='Training Accuracy')\n",
    "plt.plot(training_sizes, test_accuracies, label='Testing Accuracy')\n",
    "plt.xlabel('Training Set Size')\n",
    "plt.ylabel('Accuracy')\n",
    "plt.title('Decision tree Learning Curve')\n",
    "plt.legend()\n",
    "plt.show()"
   ]
  },
  {
   "cell_type": "code",
   "execution_count": null,
   "metadata": {},
   "outputs": [
    {
     "data": {
      "text/plain": [
       "' model = KNeighborsClassifier(n_neighbors=2)\\nmodel.fit(X_train,Y_train)\\n\\ntrain_pred = model.predict(X_train)\\ntrain_accuracy = accuracy_score(Y_train, train_pred)\\n\\ntest_pred = model.predict(X_test)\\ntest_accuracy = accuracy_score(Y_test, test_pred)\\n\\naccuracy = model.score(X_test, Y_test)\\naccuracy\\n\\nprint(f\"Accuracy: {accuracy}\\n\")\\nprint ( \\'Accuracy score: %.6f\\' %accuracy_score ( Y_test, test_pred) )\\n\\n\\nprint(classification_report(Y_test,test_pred))\\nprint(confusion_matrix(Y_test,test_pred))\\n\\ntraining_sizes = np.linspace(0.1, 1.0, 10)\\ntrain_accuracies = []\\ntest_accuracies = []\\n\\nfor size in training_sizes:\\n    # Use a subset of the training data\\n    subset_size = int(size * len(X_train))\\n    X_subset = X_train[:subset_size]\\n    y_subset = Y_train[:subset_size]\\n\\n    # Train the model on the subset\\n    model.fit(X_subset, y_subset)\\n\\n    # Calculate accuracy on both training and testing sets\\n    train_preds = model.predict(X_subset)\\n    test_preds = model.predict(X_test)\\n\\n    train_accuracies.append(accuracy_score(y_subset, train_preds))\\n    test_accuracies.append(accuracy_score(Y_test, test_preds))\\n\\n# Plot the learning curve\\nplt.figure(figsize=(10, 6)) \\nplt.plot(training_sizes, train_accuracies, label=\\'Training Accuracy\\')\\nplt.plot(training_sizes, test_accuracies, label=\\'Testing Accuracy\\')\\nplt.xlabel(\\'Training Set Size\\')\\nplt.ylabel(\\'Accuracy\\')\\nplt.title(\\'KNN Learning Curve\\')\\nplt.legend()\\nplt.show()'"
      ]
     },
     "execution_count": 16,
     "metadata": {},
     "output_type": "execute_result"
    }
   ],
   "source": [
    "\"\"\"from sklearn.model_selection import GridSearchCV, RandomizedSearchCV\n",
    "\n",
    "param_grid = {\n",
    "    'learning_rate': [0.01, 0.1, 0.2],\n",
    "    'max_depth': [3, 4, 5],\n",
    "    'n_estimators': [50, 100, 200],\n",
    "    'subsample': [0.8, 0.9, 1.0],\n",
    "    'colsample_bytree': [0.8, 0.9, 1.0],\n",
    "    # Add more hyperparameters as needed\n",
    "}\n",
    "\n",
    "# Grid Search\n",
    "grid_search = GridSearchCV(estimator=xgb.XGBClassifier(objective='binary:logistic', eval_metric='logloss'),\n",
    "                           param_grid=param_grid,\n",
    "                           scoring='accuracy',\n",
    "                           cv=3,\n",
    "                           n_jobs=-1)\n",
    "\n",
    "# Random Search\n",
    "random_search = RandomizedSearchCV(estimator=xgb.XGBClassifier(objective='binary:logistic', eval_metric='logloss'),\n",
    "                                   param_distributions=param_grid,\n",
    "                                   scoring='accuracy',\n",
    "                                   n_iter=10,\n",
    "                                   cv=3,\n",
    "                                   n_jobs=-1)\n",
    "\n",
    "grid_search.fit(X_train, Y_train)\n",
    "best_params = grid_search.best_params_\n",
    "\n",
    "best_model = grid_search.best_estimator_\n",
    "predictions = best_model.predict(X_test)\n",
    "accuracy = accuracy_score(Y_test, predictions)\n",
    "print(f\"Accuracy: {accuracy}\")\n",
    "print(classification_report(Y_test,predictions))\n",
    "print(confusion_matrix(Y_test,predictions)) \"\"\""
   ]
  },
  {
   "cell_type": "code",
   "execution_count": null,
   "metadata": {},
   "outputs": [
    {
     "data": {
      "text/plain": [
       "\" from sklearn.model_selection import learning_curve\\n# Create a logistic regression model\\nmodel = AdaBoostClassifier(n_estimators=50, random_state=42)\\n\\n# Create learning curves using scikit-learn's learning_curve function\\ntrain_sizes, train_scores, test_scores = learning_curve(model, X_train, Y_train, cv=5, train_sizes=np.linspace(0.1, 1.0, 10))\\n\\n# Calculate the mean and standard deviation of training and test scores\\ntrain_mean = np.mean(train_scores, axis=1)\\ntrain_std = np.std(train_scores, axis=1)\\ntest_mean = np.mean(test_scores, axis=1)\\ntest_std = np.std(test_scores, axis=1)\\n\\n# Plot the learning curve\\nplt.figure(figsize=(10, 6))\\nplt.plot(train_sizes, train_mean, color='blue', marker='o', markersize=5, label='Training Accuracy')\\nplt.fill_between(train_sizes, train_mean - train_std, train_mean + train_std, alpha=0.15, color='blue')\\n\\nplt.plot(train_sizes, test_mean, color='green', linestyle='--', marker='s', markersize=5, label='Validation Accuracy')\\nplt.fill_between(train_sizes, test_mean - test_std, test_mean + test_std, alpha=0.15, color='green')\\n\\nplt.title('Learning Curve')\\nplt.xlabel('Number of Training Samples')\\nplt.ylabel('Accuracy')\\nplt.legend(loc='lower right')\\nplt.grid()\\nplt.show() \""
      ]
     },
     "execution_count": 17,
     "metadata": {},
     "output_type": "execute_result"
    }
   ],
   "source": [
    "\"\"\"training_sizes = np.linspace(0.1, 1.0, 10)\n",
    "train_accuracies = []\n",
    "test_accuracies = []\n",
    "\n",
    "for size in training_sizes:\n",
    "    # Use a subset of the training data\n",
    "    subset_size = int(size * len(X_train))\n",
    "    X_subset = X_train[:subset_size]\n",
    "    y_subset = Y_train[:subset_size]\n",
    "\n",
    "    # Train the model on the subset\n",
    "    best_model.fit(X_subset, y_subset)\n",
    "\n",
    "    # Calculate accuracy on both training and testing sets\n",
    "    train_preds = best_model.predict(X_subset)\n",
    "    test_preds = best_model.predict(X_test)\n",
    "\n",
    "    train_accuracies.append(accuracy_score(y_subset, train_preds))\n",
    "    test_accuracies.append(accuracy_score(Y_test, test_preds))\n",
    "\n",
    "# Plot the learning curve\n",
    "plt.figure(figsize=(10, 6)) \n",
    "plt.plot(training_sizes, train_accuracies, label='Training Accuracy')\n",
    "plt.plot(training_sizes, test_accuracies, label='Testing Accuracy')\n",
    "plt.xlabel('Training Set Size')\n",
    "plt.ylabel('Accuracy')\n",
    "plt.title('XBOOST opt Learning Curve')\n",
    "plt.legend()\n",
    "plt.show()\"\"\""
   ]
  },
  {
   "cell_type": "code",
   "execution_count": null,
   "metadata": {},
   "outputs": [],
   "source": [
    "\"\"\"model = AdaBoostClassifier(n_estimators=50, random_state=42)\n",
    "model.fit(X_train,Y_train)\n",
    "\n",
    "train_pred = model.predict(X_train)\n",
    "train_accuracy = accuracy_score(Y_train, train_pred)\n",
    "\n",
    "test_pred = model.predict(X_test)\n",
    "test_accuracy = accuracy_score(Y_test, test_pred)\n",
    "\n",
    "accuracy = model.score(X_test, Y_test)\n",
    "accuracy\n",
    "\n",
    "print(f\"Accuracy: {accuracy}\\n\")\n",
    "print ( 'Accuracy score: %.6f' %accuracy_score ( Y_test, test_pred) )\n",
    "\n",
    "\n",
    "print(classification_report(Y_test,test_pred))\n",
    "print(confusion_matrix(Y_test,test_pred))\n",
    "\n",
    "training_sizes = np.linspace(0.1, 1.0, 10)\n",
    "train_accuracies = []\n",
    "test_accuracies = []\n",
    "\n",
    "for size in training_sizes:\n",
    "    # Use a subset of the training data\n",
    "    subset_size = int(size * len(X_train))\n",
    "    X_subset = X_train[:subset_size]\n",
    "    y_subset = Y_train[:subset_size]\n",
    "\n",
    "    # Train the model on the subset \n",
    "    model.fit(X_subset, y_subset)\n",
    "\n",
    "    # Calculate accuracy on both training and testing sets\n",
    "    train_preds = model.predict(X_subset)\n",
    "    test_preds = model.predict(X_test)\n",
    "\n",
    "    train_accuracies.append(accuracy_score(y_subset, train_preds))\n",
    "    test_accuracies.append(accuracy_score(Y_test, test_preds))\n",
    "\n",
    "# Plot the learning curve\n",
    "plt.figure(figsize=(10, 6))\n",
    "plt.plot(training_sizes, train_accuracies, label='Training Accuracy')\n",
    "plt.plot(training_sizes, test_accuracies, label='Testing Accuracy')\n",
    "plt.xlabel('Training Set Size')\n",
    "plt.ylabel('Accuracy')\n",
    "plt.title('Ada boosting Learning Curve')\n",
    "plt.legend()\n",
    "plt.show() \"\"\""
   ]
  },
  {
   "cell_type": "code",
   "execution_count": 67,
   "metadata": {},
   "outputs": [],
   "source": [
    "# Save the trained model using joblib\n",
    "joblib.dump(decTree_model, 'MLmodels/decisionTree_model.joblib')\n",
    "\n",
    "# Load the model back from the file\n",
    "decisionTreeModel = joblib.load('MLmodels/decisionTree_model.joblib')"
   ]
  },
  {
   "cell_type": "code",
   "execution_count": 72,
   "metadata": {},
   "outputs": [
    {
     "name": "stdout",
     "output_type": "stream",
     "text": [
      "Predicted Class for New Data: [0]\n"
     ]
    },
    {
     "name": "stderr",
     "output_type": "stream",
     "text": [
      "/Library/Frameworks/Python.framework/Versions/3.12/lib/python3.12/site-packages/sklearn/base.py:465: UserWarning: X does not have valid feature names, but DecisionTreeClassifier was fitted with feature names\n",
      "  warnings.warn(\n"
     ]
    }
   ],
   "source": [
    "# Now you can use the loaded_model for predictions\n",
    "new_data = [[70000000, 57, 2, 1, 2, 1, 3, 2, 12]]  # Example new data point\n",
    "prediction = decisionTreeModel.predict(new_data)\n",
    "\n",
    "print(f'Predicted Class for New Data: {prediction}')"
   ]
  },
  {
   "cell_type": "code",
   "execution_count": 69,
   "metadata": {},
   "outputs": [],
   "source": [
    "# Save the trained model using joblib\n",
    "joblib.dump(logReg_model, 'MLmodels/logReg_model.joblib')\n",
    "\n",
    "\n",
    "# Load the model back from the file\n",
    "logRegModel = joblib.load('MLmodels/logReg_model.joblib')"
   ]
  },
  {
   "cell_type": "code",
   "execution_count": null,
   "metadata": {},
   "outputs": [],
   "source": [
    "# Save the trained model using joblib\n",
    "joblib.dump(forestModel, 'MLmodels/randomForest_model.joblib')\n",
    "# Load the model back from the file\n",
    "logRegModel = joblib.load('MLmodels/randomForest_model.joblib')"
   ]
  }
 ],
 "metadata": {
  "kernelspec": {
   "display_name": "Python 3 (ipykernel)",
   "language": "python",
   "name": "python3"
  },
  "language_info": {
   "codemirror_mode": {
    "name": "ipython",
    "version": 3
   },
   "file_extension": ".py",
   "mimetype": "text/x-python",
   "name": "python",
   "nbconvert_exporter": "python",
   "pygments_lexer": "ipython3",
   "version": "3.12.0"
  }
 },
 "nbformat": 4,
 "nbformat_minor": 4
}
